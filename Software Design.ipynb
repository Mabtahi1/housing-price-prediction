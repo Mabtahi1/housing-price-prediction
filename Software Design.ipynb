{
 "cells": [
  {
   "cell_type": "markdown",
   "id": "81920497",
   "metadata": {},
   "source": [
    "# Designing the Software Architecture\n",
    "## Data Processing Module\n",
    "Handles data preprocessing, including missing values, feature engineering, and scaling.\n",
    "This module should be independent, so it can be reused or updated without affecting other parts of the system.\n",
    "\n",
    "## Model Inference Module\n",
    "Loads the pre-trained Random Forest model and performs predictions.\n",
    "This module should be optimized for scalability, enabling multiple requests to be processed simultaneously.\n",
    "\n",
    "## Error Handling Module\n",
    "Manages exceptions and errors throughout the system, ensuring graceful degradation.\n",
    "Provides clear error messages to the API users.\n",
    "\n",
    "## REST API\n",
    "The API should accept input features in JSON format and return the predicted housing price.\n",
    "It will include endpoints for predictions and possibly for model health checks.\n",
    "\n",
    "## High-Level Architecture:\n",
    "Data Input (JSON) → Data Processing Module → Model Inference Module → Error Handling Module → API Response (JSON)\n",
    "\n",
    "## Implementing the Architecture in Python"
   ]
  },
  {
   "cell_type": "markdown",
   "id": "82a2332f",
   "metadata": {},
   "source": [
    "## Data Processing Module"
   ]
  },
  {
   "cell_type": "code",
   "execution_count": null,
   "id": "e01f8638",
   "metadata": {},
   "outputs": [],
   "source": [
    "import pandas as pd\n",
    "from sklearn.preprocessing import StandardScaler\n",
    "\n",
    "class DataProcessor:\n",
    "    def __init__(self):\n",
    "        self.scaler = StandardScaler()\n",
    "    \n",
    "    def preprocess(self, data):\n",
    "        # Assuming `data` is a dictionary with input features\n",
    "        df = pd.DataFrame([data])\n",
    "        \n",
    "        # Fill missing values (example strategy)\n",
    "        df.fillna(df.mean(), inplace=True)\n",
    "        \n",
    "        # Feature scaling (example on all numeric columns)\n",
    "        df[df.columns] = self.scaler.fit_transform(df[df.columns])\n",
    "        \n",
    "        return df\n"
   ]
  },
  {
   "cell_type": "markdown",
   "id": "698f0835",
   "metadata": {},
   "source": [
    "## Model Inference Module"
   ]
  },
  {
   "cell_type": "code",
   "execution_count": null,
   "id": "b444e25a",
   "metadata": {},
   "outputs": [],
   "source": [
    "import joblib\n",
    "\n",
    "class ModelInference:\n",
    "    def __init__(self, model_path):\n",
    "        self.model = joblib.load(model_path)\n",
    "    \n",
    "    def predict(self, processed_data):\n",
    "        return self.model.predict(processed_data)\n"
   ]
  },
  {
   "cell_type": "markdown",
   "id": "278b4ec2",
   "metadata": {},
   "source": [
    "## Error Handling Module"
   ]
  },
  {
   "cell_type": "code",
   "execution_count": null,
   "id": "3aa10307",
   "metadata": {},
   "outputs": [],
   "source": [
    "class ErrorHandler:\n",
    "    def __init__(self):\n",
    "        pass\n",
    "    \n",
    "    def handle_error(self, error):\n",
    "        # Log the error or handle it as needed\n",
    "        return {\"error\": str(error)}\n"
   ]
  },
  {
   "cell_type": "markdown",
   "id": "d5796cd3",
   "metadata": {},
   "source": [
    "# Implementing the REST API using FastAPI\n",
    "## Setting Up FastAPI"
   ]
  },
  {
   "cell_type": "code",
   "execution_count": null,
   "id": "e86891e5",
   "metadata": {},
   "outputs": [],
   "source": [
    "from fastapi import FastAPI, HTTPException\n",
    "from pydantic import BaseModel\n",
    "\n",
    "app = FastAPI()\n",
    "\n",
    "# Load the components\n",
    "data_processor = DataProcessor()\n",
    "model_inference = ModelInference(model_path='random_forest_model.pkl')\n",
    "error_handler = ErrorHandler()\n",
    "\n",
    "class HousingData(BaseModel):\n",
    "    longitude: float\n",
    "    latitude: float\n",
    "    housing_median_age: float\n",
    "    total_rooms: float\n",
    "    total_bedrooms: float\n",
    "    population: float\n",
    "    households: float\n",
    "    median_income: float\n",
    "    ocean_proximity: str  # Assuming ocean proximity is categorical\n",
    "\n",
    "@app.post(\"/predict/\")\n",
    "async def predict_price(data: HousingData):\n",
    "    try:\n",
    "        # Convert incoming data to dictionary\n",
    "        input_data = data.dict()\n",
    "        \n",
    "        # Process the data\n",
    "        processed_data = data_processor.preprocess(input_data)\n",
    "        \n",
    "        # Perform prediction\n",
    "        prediction = model_inference.predict(processed_data)\n",
    "        \n",
    "        return {\"predicted_price\": prediction[0]}\n",
    "    except Exception as e:\n",
    "        # Handle error\n",
    "        return error_handler.handle_error(e)\n",
    "\n",
    "# Example endpoint to check API status\n",
    "@app.get(\"/\")\n",
    "def read_root():\n",
    "    return {\"message\": \"Housing Price Prediction API is running\"}\n"
   ]
  },
  {
   "cell_type": "markdown",
   "id": "f73c8442",
   "metadata": {},
   "source": [
    "# Explanation\n",
    "## Modular Design:\n",
    "Each module (data processing, inference, error handling) is independent and can be tested or updated separately.\n",
    "\n",
    "## Scalable Architecture:\n",
    "The modularity and use of FastAPI ensure the system can handle multiple requests and scale as needed.\n",
    "\n",
    "## API Design:\n",
    "The REST API provides a simple interface for external systems to interact with your model, with built-in error handling."
   ]
  },
  {
   "cell_type": "code",
   "execution_count": null,
   "id": "0d8b699d",
   "metadata": {},
   "outputs": [],
   "source": []
  }
 ],
 "metadata": {
  "kernelspec": {
   "display_name": "Python 3 (ipykernel)",
   "language": "python",
   "name": "python3"
  },
  "language_info": {
   "codemirror_mode": {
    "name": "ipython",
    "version": 3
   },
   "file_extension": ".py",
   "mimetype": "text/x-python",
   "name": "python",
   "nbconvert_exporter": "python",
   "pygments_lexer": "ipython3",
   "version": "3.7.2"
  }
 },
 "nbformat": 4,
 "nbformat_minor": 5
}
